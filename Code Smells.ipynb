{
 "cells": [
  {
   "cell_type": "code",
   "execution_count": 1,
   "metadata": {},
   "outputs": [
    {
     "name": "stdout",
     "output_type": "stream",
     "text": [
      "Collecting pydriller\n",
      "  Downloading https://files.pythonhosted.org/packages/b7/6d/444afb5f8f200dbe492238605b96cafdc93b595f00ee0bcb22f6f9697d99/PyDriller-1.9.2-py3-none-any.whl\n",
      "Requirement already satisfied: pytz in c:\\users\\bruno.moreira\\appdata\\local\\continuum\\anaconda3\\lib\\site-packages (from pydriller) (2018.9)\n",
      "Collecting typing (from pydriller)\n",
      "  Downloading https://files.pythonhosted.org/packages/fe/2e/b480ee1b75e6d17d2993738670e75c1feeb9ff7f64452153cf018051cc92/typing-3.7.4.1-py3-none-any.whl\n",
      "Collecting gitpython (from pydriller)\n",
      "  Downloading https://files.pythonhosted.org/packages/aa/25/9fd9f0b05408021736a22ae73f837152c132e4ea85cdd71d186e24efec31/GitPython-3.0.4-py3-none-any.whl (454kB)\n",
      "Collecting lizard (from pydriller)\n",
      "  Downloading https://files.pythonhosted.org/packages/24/7a/7ca04c3d84998d7344caafd3534a1b8a80d293bf32afbd2ef3956282d1c2/lizard-1.16.6-py2.py3-none-any.whl (56kB)\n",
      "Collecting gitdb2>=2.0.0 (from gitpython->pydriller)\n",
      "  Downloading https://files.pythonhosted.org/packages/03/6c/99296f89bad2ef85626e1df9f677acbee8885bb043ad82ad3ed4746d2325/gitdb2-2.0.6-py2.py3-none-any.whl (63kB)\n",
      "Collecting smmap2>=2.0.0 (from gitdb2>=2.0.0->gitpython->pydriller)\n",
      "  Downloading https://files.pythonhosted.org/packages/55/d2/866d45e3a121ee15a1dc013824d58072fd5c7799c9c34d01378eb262ca8f/smmap2-2.0.5-py2.py3-none-any.whl\n",
      "Installing collected packages: typing, smmap2, gitdb2, gitpython, lizard, pydriller\n",
      "Successfully installed gitdb2-2.0.6 gitpython-3.0.4 lizard-1.16.6 pydriller-1.9.2 smmap2-2.0.5 typing-3.7.4.1\n",
      "Note: you may need to restart the kernel to use updated packages.\n"
     ]
    }
   ],
   "source": [
    "pip install pydriller"
   ]
  },
  {
   "cell_type": "code",
   "execution_count": 1,
   "metadata": {},
   "outputs": [],
   "source": [
    "from pydriller import RepositoryMining"
   ]
  },
  {
   "cell_type": "code",
   "execution_count": 2,
   "metadata": {},
   "outputs": [],
   "source": [
    "#Exemplos da aula de pydriller\n",
    "from datetime import datetime \n",
    "def print_bug_commits(repo):\n",
    "  for commit in RepositoryMining(repo).traverse_commits():\n",
    "    if 'bug' in commit.msg:\n",
    "        print('Commit {} fixed a bug'.format(commit.hash))\n",
    "def print_commits(repo):\n",
    "  for commit in RepositoryMining(repo).traverse_commits():\n",
    "    print(\"Commit {} with message {}\".format(commit.hash,commit.msg))\n",
    "\n",
    "def print_commits_modifications(repo):\n",
    "  for commit in RepositoryMining(repo).traverse_commits():\n",
    "    print(\"Author {}\".format(commit.author.email))\n",
    "    print(\"with message {} on date {} TZ {} \".format(commit.msg,commit.author_date,commit.author_timezone))\n",
    "    for mod in commit.modifications:\n",
    "      print(\"Modified file {} - {}\".format(mod.change_type.name,mod.filename))\n",
    "      print(\"Complexity {}\".format(mod.complexity))\n",
    "\n",
    "def print_commits_modifications2(repo,from_date,to_date):\n",
    "  for commit in RepositoryMining(repo, since = from_date,to = to_date).traverse_commits():\n",
    "    print(\"Author {}\".format(commit.author.email))\n",
    "    print(\"with message {} on date {} TZ {} \".format(commit.msg,commit.author_date,commit.author_timezone))\n",
    "    for mod in commit.modifications:\n",
    "      print(\"Modified file {} - {}\".format(mod.change_type.name,mod.filename))\n",
    "      print(\"Complexity {}\".format(mod.complexity))"
   ]
  },
  {
   "cell_type": "code",
   "execution_count": null,
   "metadata": {},
   "outputs": [],
   "source": []
  }
 ],
 "metadata": {
  "kernelspec": {
   "display_name": "Python 3",
   "language": "python",
   "name": "python3"
  },
  "language_info": {
   "codemirror_mode": {
    "name": "ipython",
    "version": 3
   },
   "file_extension": ".py",
   "mimetype": "text/x-python",
   "name": "python",
   "nbconvert_exporter": "python",
   "pygments_lexer": "ipython3",
   "version": "3.7.3"
  }
 },
 "nbformat": 4,
 "nbformat_minor": 2
}
